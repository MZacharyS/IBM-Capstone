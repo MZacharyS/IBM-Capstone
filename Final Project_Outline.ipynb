{
    "cells": [
        {
            "cell_type": "markdown",
            "metadata": {},
            "source": "# A New Little Brewery in Toronto Canada"
        },
        {
            "cell_type": "markdown",
            "metadata": {
                "collapsed": true
            },
            "source": "## Introduction/Business Problem\n\nAs time passes and technology advances more and more people are beginning to turn their small hobbies into small businesses. Good brew lovers are just one example, but you will be hard pressed to find a more tenacious and resourceful people. In Toronto, as around the world, there is a love of good beer and other brews, and when the hobbiest decides to turn his passtime into a full time career he will be faced with the problem of where to open up his new Brewery. This project will search for the ideal neighborhood/borough in Toronto Canada for this aspiring brewmaster to setup shop. "
        },
        {
            "cell_type": "markdown",
            "metadata": {},
            "source": "## The Data\n\nThis new brewery will need to be in a location that has good foot traffic, is near pubs or bars that they can potentially collaborate with to get their product out there, and finally in an area that is not already saturated by other breweries. This project will leverage the data found through Foursquare, as well as Wikipedia. A list of neighborhoods and their postal codes will be scrapped from wikipedia, and then the latitude and longitude of those locations will be found using geocoder. Analysis will be done using k-means clustering, and a final result and conclusion delivered. "
        },
        {
            "cell_type": "code",
            "execution_count": null,
            "metadata": {},
            "outputs": [],
            "source": ""
        }
    ],
    "metadata": {
        "kernelspec": {
            "display_name": "Python 3.6",
            "language": "python",
            "name": "python3"
        },
        "language_info": {
            "codemirror_mode": {
                "name": "ipython",
                "version": 3
            },
            "file_extension": ".py",
            "mimetype": "text/x-python",
            "name": "python",
            "nbconvert_exporter": "python",
            "pygments_lexer": "ipython3",
            "version": "3.6.9"
        }
    },
    "nbformat": 4,
    "nbformat_minor": 1
}